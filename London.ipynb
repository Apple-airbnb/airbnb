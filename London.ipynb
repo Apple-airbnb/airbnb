{
 "cells": [
  {
   "cell_type": "code",
   "execution_count": 1,
   "metadata": {
    "collapsed": true
   },
   "outputs": [],
   "source": [
    "import pandas as pd"
   ]
  },
  {
   "cell_type": "code",
   "execution_count": 2,
   "metadata": {
    "collapsed": false
   },
   "outputs": [
    {
     "name": "stdout",
     "output_type": "stream",
     "text": [
      "<class 'pandas.core.frame.DataFrame'>\n",
      "RangeIndex: 49348 entries, 0 to 49347\n",
      "Data columns (total 16 columns):\n",
      "id                                49348 non-null int64\n",
      "name                              49345 non-null object\n",
      "host_id                           49348 non-null int64\n",
      "host_name                         49338 non-null object\n",
      "neighbourhood_group               0 non-null float64\n",
      "neighbourhood                     49348 non-null object\n",
      "latitude                          49348 non-null float64\n",
      "longitude                         49348 non-null float64\n",
      "room_type                         49348 non-null object\n",
      "price                             49348 non-null int64\n",
      "minimum_nights                    49348 non-null int64\n",
      "number_of_reviews                 49348 non-null int64\n",
      "last_review                       34717 non-null object\n",
      "reviews_per_month                 34717 non-null float64\n",
      "calculated_host_listings_count    49348 non-null int64\n",
      "availability_365                  49348 non-null int64\n",
      "dtypes: float64(4), int64(7), object(5)\n",
      "memory usage: 6.0+ MB\n"
     ]
    }
   ],
   "source": [
    "dataset = 'listings.csv'\n",
    "\n",
    "df = pd.read_csv(dataset)\n",
    "\n",
    "df.info()"
   ]
  },
  {
   "cell_type": "code",
   "execution_count": 3,
   "metadata": {
    "collapsed": false
   },
   "outputs": [
    {
     "data": {
      "text/html": [
       "<div>\n",
       "<table border=\"1\" class=\"dataframe\">\n",
       "  <thead>\n",
       "    <tr style=\"text-align: right;\">\n",
       "      <th></th>\n",
       "      <th>id</th>\n",
       "      <th>host_id</th>\n",
       "      <th>neighbourhood_group</th>\n",
       "      <th>latitude</th>\n",
       "      <th>longitude</th>\n",
       "      <th>price</th>\n",
       "      <th>minimum_nights</th>\n",
       "      <th>number_of_reviews</th>\n",
       "      <th>reviews_per_month</th>\n",
       "      <th>calculated_host_listings_count</th>\n",
       "      <th>availability_365</th>\n",
       "    </tr>\n",
       "  </thead>\n",
       "  <tbody>\n",
       "    <tr>\n",
       "      <th>count</th>\n",
       "      <td>4.934800e+04</td>\n",
       "      <td>4.934800e+04</td>\n",
       "      <td>0.0</td>\n",
       "      <td>49348.000000</td>\n",
       "      <td>49348.000000</td>\n",
       "      <td>49348.000000</td>\n",
       "      <td>49348.000000</td>\n",
       "      <td>49348.000000</td>\n",
       "      <td>34717.000000</td>\n",
       "      <td>49348.000000</td>\n",
       "      <td>49348.000000</td>\n",
       "    </tr>\n",
       "    <tr>\n",
       "      <th>mean</th>\n",
       "      <td>8.976157e+06</td>\n",
       "      <td>2.780986e+07</td>\n",
       "      <td>NaN</td>\n",
       "      <td>51.510820</td>\n",
       "      <td>-0.126713</td>\n",
       "      <td>97.895254</td>\n",
       "      <td>2.970597</td>\n",
       "      <td>11.435053</td>\n",
       "      <td>1.414713</td>\n",
       "      <td>13.163087</td>\n",
       "      <td>185.548817</td>\n",
       "    </tr>\n",
       "    <tr>\n",
       "      <th>std</th>\n",
       "      <td>4.541614e+06</td>\n",
       "      <td>2.521234e+07</td>\n",
       "      <td>NaN</td>\n",
       "      <td>0.045359</td>\n",
       "      <td>0.087770</td>\n",
       "      <td>147.328653</td>\n",
       "      <td>23.774661</td>\n",
       "      <td>24.047311</td>\n",
       "      <td>1.464570</td>\n",
       "      <td>68.047778</td>\n",
       "      <td>150.522995</td>\n",
       "    </tr>\n",
       "    <tr>\n",
       "      <th>min</th>\n",
       "      <td>8.795000e+03</td>\n",
       "      <td>5.160000e+02</td>\n",
       "      <td>NaN</td>\n",
       "      <td>51.292719</td>\n",
       "      <td>-0.501305</td>\n",
       "      <td>8.000000</td>\n",
       "      <td>1.000000</td>\n",
       "      <td>0.000000</td>\n",
       "      <td>0.020000</td>\n",
       "      <td>1.000000</td>\n",
       "      <td>0.000000</td>\n",
       "    </tr>\n",
       "    <tr>\n",
       "      <th>25%</th>\n",
       "      <td>5.413136e+06</td>\n",
       "      <td>6.435724e+06</td>\n",
       "      <td>NaN</td>\n",
       "      <td>51.485205</td>\n",
       "      <td>-0.187506</td>\n",
       "      <td>43.000000</td>\n",
       "      <td>1.000000</td>\n",
       "      <td>0.000000</td>\n",
       "      <td>0.380000</td>\n",
       "      <td>1.000000</td>\n",
       "      <td>13.000000</td>\n",
       "    </tr>\n",
       "    <tr>\n",
       "      <th>50%</th>\n",
       "      <td>9.485835e+06</td>\n",
       "      <td>2.091270e+07</td>\n",
       "      <td>NaN</td>\n",
       "      <td>51.514917</td>\n",
       "      <td>-0.121834</td>\n",
       "      <td>70.000000</td>\n",
       "      <td>2.000000</td>\n",
       "      <td>3.000000</td>\n",
       "      <td>0.950000</td>\n",
       "      <td>1.000000</td>\n",
       "      <td>185.000000</td>\n",
       "    </tr>\n",
       "    <tr>\n",
       "      <th>75%</th>\n",
       "      <td>1.322749e+07</td>\n",
       "      <td>4.259553e+07</td>\n",
       "      <td>NaN</td>\n",
       "      <td>51.539648</td>\n",
       "      <td>-0.068919</td>\n",
       "      <td>119.000000</td>\n",
       "      <td>3.000000</td>\n",
       "      <td>11.000000</td>\n",
       "      <td>2.000000</td>\n",
       "      <td>3.000000</td>\n",
       "      <td>343.000000</td>\n",
       "    </tr>\n",
       "    <tr>\n",
       "      <th>max</th>\n",
       "      <td>1.532927e+07</td>\n",
       "      <td>9.769013e+07</td>\n",
       "      <td>NaN</td>\n",
       "      <td>51.686049</td>\n",
       "      <td>0.317523</td>\n",
       "      <td>8006.000000</td>\n",
       "      <td>5000.000000</td>\n",
       "      <td>376.000000</td>\n",
       "      <td>21.220000</td>\n",
       "      <td>607.000000</td>\n",
       "      <td>365.000000</td>\n",
       "    </tr>\n",
       "  </tbody>\n",
       "</table>\n",
       "</div>"
      ],
      "text/plain": [
       "                 id       host_id  neighbourhood_group      latitude  \\\n",
       "count  4.934800e+04  4.934800e+04                  0.0  49348.000000   \n",
       "mean   8.976157e+06  2.780986e+07                  NaN     51.510820   \n",
       "std    4.541614e+06  2.521234e+07                  NaN      0.045359   \n",
       "min    8.795000e+03  5.160000e+02                  NaN     51.292719   \n",
       "25%    5.413136e+06  6.435724e+06                  NaN     51.485205   \n",
       "50%    9.485835e+06  2.091270e+07                  NaN     51.514917   \n",
       "75%    1.322749e+07  4.259553e+07                  NaN     51.539648   \n",
       "max    1.532927e+07  9.769013e+07                  NaN     51.686049   \n",
       "\n",
       "          longitude         price  minimum_nights  number_of_reviews  \\\n",
       "count  49348.000000  49348.000000    49348.000000       49348.000000   \n",
       "mean      -0.126713     97.895254        2.970597          11.435053   \n",
       "std        0.087770    147.328653       23.774661          24.047311   \n",
       "min       -0.501305      8.000000        1.000000           0.000000   \n",
       "25%       -0.187506     43.000000        1.000000           0.000000   \n",
       "50%       -0.121834     70.000000        2.000000           3.000000   \n",
       "75%       -0.068919    119.000000        3.000000          11.000000   \n",
       "max        0.317523   8006.000000     5000.000000         376.000000   \n",
       "\n",
       "       reviews_per_month  calculated_host_listings_count  availability_365  \n",
       "count       34717.000000                    49348.000000      49348.000000  \n",
       "mean            1.414713                       13.163087        185.548817  \n",
       "std             1.464570                       68.047778        150.522995  \n",
       "min             0.020000                        1.000000          0.000000  \n",
       "25%             0.380000                        1.000000         13.000000  \n",
       "50%             0.950000                        1.000000        185.000000  \n",
       "75%             2.000000                        3.000000        343.000000  \n",
       "max            21.220000                      607.000000        365.000000  "
      ]
     },
     "execution_count": 3,
     "metadata": {},
     "output_type": "execute_result"
    }
   ],
   "source": [
    "df.describe()"
   ]
  },
  {
   "cell_type": "code",
   "execution_count": 4,
   "metadata": {
    "collapsed": false
   },
   "outputs": [
    {
     "data": {
      "text/html": [
       "<div>\n",
       "<table border=\"1\" class=\"dataframe\">\n",
       "  <thead>\n",
       "    <tr style=\"text-align: right;\">\n",
       "      <th></th>\n",
       "      <th>id</th>\n",
       "      <th>name</th>\n",
       "      <th>host_id</th>\n",
       "      <th>host_name</th>\n",
       "      <th>neighbourhood_group</th>\n",
       "      <th>neighbourhood</th>\n",
       "      <th>latitude</th>\n",
       "      <th>longitude</th>\n",
       "      <th>room_type</th>\n",
       "      <th>price</th>\n",
       "      <th>minimum_nights</th>\n",
       "      <th>number_of_reviews</th>\n",
       "      <th>last_review</th>\n",
       "      <th>reviews_per_month</th>\n",
       "      <th>calculated_host_listings_count</th>\n",
       "      <th>availability_365</th>\n",
       "    </tr>\n",
       "  </thead>\n",
       "  <tbody>\n",
       "    <tr>\n",
       "      <th>43462</th>\n",
       "      <td>13201519</td>\n",
       "      <td>guests rooms choose</td>\n",
       "      <td>62054160</td>\n",
       "      <td>Jill</td>\n",
       "      <td>NaN</td>\n",
       "      <td>Hackney</td>\n",
       "      <td>51.557722</td>\n",
       "      <td>-0.059867</td>\n",
       "      <td>Entire home/apt</td>\n",
       "      <td>8006</td>\n",
       "      <td>1</td>\n",
       "      <td>0</td>\n",
       "      <td>NaN</td>\n",
       "      <td>NaN</td>\n",
       "      <td>14</td>\n",
       "      <td>89</td>\n",
       "    </tr>\n",
       "  </tbody>\n",
       "</table>\n",
       "</div>"
      ],
      "text/plain": [
       "             id                 name   host_id host_name  neighbourhood_group  \\\n",
       "43462  13201519  guests rooms choose  62054160      Jill                  NaN   \n",
       "\n",
       "      neighbourhood   latitude  longitude        room_type  price  \\\n",
       "43462       Hackney  51.557722  -0.059867  Entire home/apt   8006   \n",
       "\n",
       "       minimum_nights  number_of_reviews last_review  reviews_per_month  \\\n",
       "43462               1                  0         NaN                NaN   \n",
       "\n",
       "       calculated_host_listings_count  availability_365  \n",
       "43462                              14                89  "
      ]
     },
     "execution_count": 4,
     "metadata": {},
     "output_type": "execute_result"
    }
   ],
   "source": [
    "df[df['price'] == 8006]"
   ]
  },
  {
   "cell_type": "markdown",
   "metadata": {},
   "source": [
    "https://www.airbnb.com/rooms/13201519"
   ]
  },
  {
   "cell_type": "code",
   "execution_count": 5,
   "metadata": {
    "collapsed": false
   },
   "outputs": [],
   "source": [
    "import matplotlib.pyplot as plt\n"
   ]
  },
  {
   "cell_type": "code",
   "execution_count": 6,
   "metadata": {
    "collapsed": false
   },
   "outputs": [
    {
     "data": {
      "image/png": "[encoded data removed]",
      "text/plain": [
       "<matplotlib.figure.Figure at 0x10aaa3b38>"
      ]
     },
     "metadata": {},
     "output_type": "display_data"
    }
   ],
   "source": [
    "plt.scatter(df['id'], df['price'])\n",
    "plt.show()"
   ]
  },
  {
   "cell_type": "code",
   "execution_count": 7,
   "metadata": {
    "collapsed": false
   },
   "outputs": [
    {
     "data": {
      "image/png": "[encoded data removed]",
      "text/plain": [
       "<matplotlib.figure.Figure at 0x10ab4cf60>"
      ]
     },
     "metadata": {},
     "output_type": "display_data"
    }
   ],
   "source": [
    "plt.hist(df['price'], 500)\n",
    "plt.axis([7, 400, 0, 11000])\n",
    "plt.show()\n"
   ]
  },
  {
   "cell_type": "code",
   "execution_count": 8,
   "metadata": {
    "collapsed": true
   },
   "outputs": [],
   "source": [
    "ids = 'ids.csv'\n",
    "\n",
    "ids_df = pd.read_csv(ids)"
   ]
  },
  {
   "cell_type": "code",
   "execution_count": 9,
   "metadata": {
    "collapsed": false
   },
   "outputs": [
    {
     "data": {
      "text/plain": [
       "32838"
      ]
     },
     "execution_count": 9,
     "metadata": {},
     "output_type": "execute_result"
    }
   ],
   "source": [
    "pic = df[df['id'].isin(ids_df['id'])]\n",
    "len(pic)"
   ]
  },
  {
   "cell_type": "code",
   "execution_count": 11,
   "metadata": {
    "collapsed": false
   },
   "outputs": [
    {
     "data": {
      "text/html": [
       "<div>\n",
       "<table border=\"1\" class=\"dataframe\">\n",
       "  <thead>\n",
       "    <tr style=\"text-align: right;\">\n",
       "      <th></th>\n",
       "      <th>id</th>\n",
       "      <th>host_id</th>\n",
       "      <th>neighbourhood_group</th>\n",
       "      <th>latitude</th>\n",
       "      <th>longitude</th>\n",
       "      <th>price</th>\n",
       "      <th>minimum_nights</th>\n",
       "      <th>number_of_reviews</th>\n",
       "      <th>reviews_per_month</th>\n",
       "      <th>calculated_host_listings_count</th>\n",
       "      <th>availability_365</th>\n",
       "    </tr>\n",
       "  </thead>\n",
       "  <tbody>\n",
       "    <tr>\n",
       "      <th>count</th>\n",
       "      <td>3.283800e+04</td>\n",
       "      <td>3.283800e+04</td>\n",
       "      <td>0.0</td>\n",
       "      <td>32838.000000</td>\n",
       "      <td>32838.000000</td>\n",
       "      <td>32838.000000</td>\n",
       "      <td>32838.000000</td>\n",
       "      <td>32838.000000</td>\n",
       "      <td>23483.000000</td>\n",
       "      <td>32838.000000</td>\n",
       "      <td>32838.000000</td>\n",
       "    </tr>\n",
       "    <tr>\n",
       "      <th>mean</th>\n",
       "      <td>8.766315e+06</td>\n",
       "      <td>2.684172e+07</td>\n",
       "      <td>NaN</td>\n",
       "      <td>51.515891</td>\n",
       "      <td>-0.134774</td>\n",
       "      <td>99.756928</td>\n",
       "      <td>2.893325</td>\n",
       "      <td>12.142609</td>\n",
       "      <td>1.438344</td>\n",
       "      <td>13.929259</td>\n",
       "      <td>181.332146</td>\n",
       "    </tr>\n",
       "    <tr>\n",
       "      <th>std</th>\n",
       "      <td>4.518892e+06</td>\n",
       "      <td>2.452710e+07</td>\n",
       "      <td>NaN</td>\n",
       "      <td>0.044586</td>\n",
       "      <td>0.085938</td>\n",
       "      <td>125.477616</td>\n",
       "      <td>6.356580</td>\n",
       "      <td>24.984939</td>\n",
       "      <td>1.493759</td>\n",
       "      <td>72.141829</td>\n",
       "      <td>150.411948</td>\n",
       "    </tr>\n",
       "    <tr>\n",
       "      <th>min</th>\n",
       "      <td>8.795000e+03</td>\n",
       "      <td>2.010000e+03</td>\n",
       "      <td>NaN</td>\n",
       "      <td>51.292719</td>\n",
       "      <td>-0.501305</td>\n",
       "      <td>8.000000</td>\n",
       "      <td>1.000000</td>\n",
       "      <td>0.000000</td>\n",
       "      <td>0.020000</td>\n",
       "      <td>1.000000</td>\n",
       "      <td>0.000000</td>\n",
       "    </tr>\n",
       "    <tr>\n",
       "      <th>25%</th>\n",
       "      <td>5.160405e+06</td>\n",
       "      <td>6.193889e+06</td>\n",
       "      <td>NaN</td>\n",
       "      <td>51.491707</td>\n",
       "      <td>-0.190426</td>\n",
       "      <td>45.000000</td>\n",
       "      <td>1.000000</td>\n",
       "      <td>0.000000</td>\n",
       "      <td>0.380000</td>\n",
       "      <td>1.000000</td>\n",
       "      <td>8.000000</td>\n",
       "    </tr>\n",
       "    <tr>\n",
       "      <th>50%</th>\n",
       "      <td>9.212255e+06</td>\n",
       "      <td>2.004481e+07</td>\n",
       "      <td>NaN</td>\n",
       "      <td>51.519834</td>\n",
       "      <td>-0.131342</td>\n",
       "      <td>75.000000</td>\n",
       "      <td>2.000000</td>\n",
       "      <td>3.000000</td>\n",
       "      <td>0.970000</td>\n",
       "      <td>1.000000</td>\n",
       "      <td>177.000000</td>\n",
       "    </tr>\n",
       "    <tr>\n",
       "      <th>75%</th>\n",
       "      <td>1.301316e+07</td>\n",
       "      <td>4.081306e+07</td>\n",
       "      <td>NaN</td>\n",
       "      <td>51.544572</td>\n",
       "      <td>-0.076393</td>\n",
       "      <td>120.000000</td>\n",
       "      <td>3.000000</td>\n",
       "      <td>12.000000</td>\n",
       "      <td>2.000000</td>\n",
       "      <td>3.000000</td>\n",
       "      <td>339.000000</td>\n",
       "    </tr>\n",
       "    <tr>\n",
       "      <th>max</th>\n",
       "      <td>1.532766e+07</td>\n",
       "      <td>9.767215e+07</td>\n",
       "      <td>NaN</td>\n",
       "      <td>51.686049</td>\n",
       "      <td>0.317523</td>\n",
       "      <td>7006.000000</td>\n",
       "      <td>360.000000</td>\n",
       "      <td>376.000000</td>\n",
       "      <td>21.220000</td>\n",
       "      <td>607.000000</td>\n",
       "      <td>365.000000</td>\n",
       "    </tr>\n",
       "  </tbody>\n",
       "</table>\n",
       "</div>"
      ],
      "text/plain": [
       "                 id       host_id  neighbourhood_group      latitude  \\\n",
       "count  3.283800e+04  3.283800e+04                  0.0  32838.000000   \n",
       "mean   8.766315e+06  2.684172e+07                  NaN     51.515891   \n",
       "std    4.518892e+06  2.452710e+07                  NaN      0.044586   \n",
       "min    8.795000e+03  2.010000e+03                  NaN     51.292719   \n",
       "25%    5.160405e+06  6.193889e+06                  NaN     51.491707   \n",
       "50%    9.212255e+06  2.004481e+07                  NaN     51.519834   \n",
       "75%    1.301316e+07  4.081306e+07                  NaN     51.544572   \n",
       "max    1.532766e+07  9.767215e+07                  NaN     51.686049   \n",
       "\n",
       "          longitude         price  minimum_nights  number_of_reviews  \\\n",
       "count  32838.000000  32838.000000    32838.000000       32838.000000   \n",
       "mean      -0.134774     99.756928        2.893325          12.142609   \n",
       "std        0.085938    125.477616        6.356580          24.984939   \n",
       "min       -0.501305      8.000000        1.000000           0.000000   \n",
       "25%       -0.190426     45.000000        1.000000           0.000000   \n",
       "50%       -0.131342     75.000000        2.000000           3.000000   \n",
       "75%       -0.076393    120.000000        3.000000          12.000000   \n",
       "max        0.317523   7006.000000      360.000000         376.000000   \n",
       "\n",
       "       reviews_per_month  calculated_host_listings_count  availability_365  \n",
       "count       23483.000000                    32838.000000      32838.000000  \n",
       "mean            1.438344                       13.929259        181.332146  \n",
       "std             1.493759                       72.141829        150.411948  \n",
       "min             0.020000                        1.000000          0.000000  \n",
       "25%             0.380000                        1.000000          8.000000  \n",
       "50%             0.970000                        1.000000        177.000000  \n",
       "75%             2.000000                        3.000000        339.000000  \n",
       "max            21.220000                      607.000000        365.000000  "
      ]
     },
     "execution_count": 11,
     "metadata": {},
     "output_type": "execute_result"
    }
   ],
   "source": [
    "pic.describe()"
   ]
  },
  {
   "cell_type": "code",
   "execution_count": 12,
   "metadata": {
    "collapsed": false
   },
   "outputs": [
    {
     "data": {
      "text/html": [
       "<div>\n",
       "<table border=\"1\" class=\"dataframe\">\n",
       "  <thead>\n",
       "    <tr style=\"text-align: right;\">\n",
       "      <th></th>\n",
       "      <th>id</th>\n",
       "      <th>name</th>\n",
       "      <th>host_id</th>\n",
       "      <th>host_name</th>\n",
       "      <th>neighbourhood_group</th>\n",
       "      <th>neighbourhood</th>\n",
       "      <th>latitude</th>\n",
       "      <th>longitude</th>\n",
       "      <th>room_type</th>\n",
       "      <th>price</th>\n",
       "      <th>minimum_nights</th>\n",
       "      <th>number_of_reviews</th>\n",
       "      <th>last_review</th>\n",
       "      <th>reviews_per_month</th>\n",
       "      <th>calculated_host_listings_count</th>\n",
       "      <th>availability_365</th>\n",
       "    </tr>\n",
       "  </thead>\n",
       "  <tbody>\n",
       "    <tr>\n",
       "      <th>29500</th>\n",
       "      <td>13569971</td>\n",
       "      <td>Amazing 3 bedder single room at Central London</td>\n",
       "      <td>60512625</td>\n",
       "      <td>Krati</td>\n",
       "      <td>NaN</td>\n",
       "      <td>Westminster</td>\n",
       "      <td>51.513567</td>\n",
       "      <td>-0.190815</td>\n",
       "      <td>Shared room</td>\n",
       "      <td>7006</td>\n",
       "      <td>1</td>\n",
       "      <td>0</td>\n",
       "      <td>NaN</td>\n",
       "      <td>NaN</td>\n",
       "      <td>1</td>\n",
       "      <td>0</td>\n",
       "    </tr>\n",
       "  </tbody>\n",
       "</table>\n",
       "</div>"
      ],
      "text/plain": [
       "             id                                            name   host_id  \\\n",
       "29500  13569971  Amazing 3 bedder single room at Central London  60512625   \n",
       "\n",
       "      host_name  neighbourhood_group neighbourhood   latitude  longitude  \\\n",
       "29500     Krati                  NaN   Westminster  51.513567  -0.190815   \n",
       "\n",
       "         room_type  price  minimum_nights  number_of_reviews last_review  \\\n",
       "29500  Shared room   7006               1                  0         NaN   \n",
       "\n",
       "       reviews_per_month  calculated_host_listings_count  availability_365  \n",
       "29500                NaN                               1                 0  "
      ]
     },
     "execution_count": 12,
     "metadata": {},
     "output_type": "execute_result"
    }
   ],
   "source": [
    "pic[pic['price'] == 7006]"
   ]
  },
  {
   "cell_type": "markdown",
   "metadata": {},
   "source": [
    "https://www.airbnb.com/rooms/13569971"
   ]
  },
  {
   "cell_type": "code",
   "execution_count": 13,
   "metadata": {
    "collapsed": false
   },
   "outputs": [
    {
     "data": {
      "image/png": "[encoded data removed]",
      "text/plain": [
       "<matplotlib.figure.Figure at 0x10b7b7d68>"
      ]
     },
     "metadata": {},
     "output_type": "display_data"
    }
   ],
   "source": [
    "plt.scatter(pic['id'], pic['price'])\n",
    "plt.show()"
   ]
  },
  {
   "cell_type": "code",
   "execution_count": 14,
   "metadata": {
    "collapsed": false
   },
   "outputs": [
    {
     "data": {
      "image/png": "[encoded data removed]",
      "text/plain": [
       "<matplotlib.figure.Figure at 0x106cd88d0>"
      ]
     },
     "metadata": {},
     "output_type": "display_data"
    }
   ],
   "source": [
    "plt.hist(pic['price'], 500)\n",
    "plt.axis([7, 400, 0, 11000])\n",
    "plt.show()"
   ]
  }
 ],
 "metadata": {
  "kernelspec": {
   "display_name": "Python 3",
   "language": "python",
   "name": "python3"
  },
  "language_info": {
   "codemirror_mode": {
    "name": "ipython",
    "version": 3
   },
   "file_extension": ".py",
   "mimetype": "text/x-python",
   "name": "python",
   "nbconvert_exporter": "python",
   "pygments_lexer": "ipython3",
   "version": "3.5.2"
  }
 },
 "nbformat": 4,
 "nbformat_minor": 1
}
